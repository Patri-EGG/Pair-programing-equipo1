{
 "cells": [
  {
   "cell_type": "markdown",
   "metadata": {},
   "source": [
    "1. Descripción: Verificar si una cadena representa un número de teléfono válido en el formato (XXX) XXX-XXXX.\n",
    "\n",
    "Probad para cada uno de los teléfonos que tenemos en la siguiente lista:\n",
    "\n",
    "Copy\n",
    "telefonos = [\"(123) 456-7890\", \"178 1890-733\", \"(555) 238-1987\", \"(123) 4560]"
   ]
  },
  {
   "cell_type": "code",
   "execution_count": 2,
   "metadata": {},
   "outputs": [],
   "source": [
    "import re"
   ]
  },
  {
   "cell_type": "code",
   "execution_count": 3,
   "metadata": {},
   "outputs": [
    {
     "name": "stdout",
     "output_type": "stream",
     "text": [
      "Los números que cumplen con el formato (XXX) XXX-XXXX) son: (123) 456-7890 (555) 238-1987\n"
     ]
    }
   ],
   "source": [
    "\n",
    "\n",
    "telefonos = [\"(123) 456-7890\", \"178 1890-733\", \"(555) 238-1987\", \"(123) 4560\"]\n",
    "telefonos_str = \" \".join(telefonos) #-----Convertir en string porque telefonos es una lista\n",
    "patron = r\"\\(\\d+\\) \\d+-\\d+\"\n",
    "\n",
    "numeros_validos = re.findall(patron, telefonos_str)\n",
    "numeros_validos_str = \" \".join(numeros_validos) #---Volver a convertir en string porque .findall() devuelve listas.\n",
    "print(f\"Los números que cumplen con el formato (XXX) XXX-XXXX) son: {numeros_validos_str}\")\n"
   ]
  },
  {
   "cell_type": "markdown",
   "metadata": {},
   "source": [
    "2. Buscar todas las direcciones de correo electrónico en un texto.\n",
    "\n",
    "Descripción: Encontrar todas las direcciones de correo electrónico presentes en una cadena de texto.\n",
    "\n",
    "Probad con el siguiente string:\n",
    "\n",
    "Copy\n",
    "texto = \"Mi correo es user@example.com. Contacta conmigo en john.doe@email."
   ]
  },
  {
   "cell_type": "code",
   "execution_count": 4,
   "metadata": {},
   "outputs": [
    {
     "name": "stdout",
     "output_type": "stream",
     "text": [
      "Los correos electrónicos encontrados son: user@example.com, john.doe@email.\n"
     ]
    }
   ],
   "source": [
    "texto2 = \"Mi correo es user@example.com. Contacta conmigo en john.doe@email.\" #Esta es cadena y no hace falta covertir.\n",
    "patron_2 = r\"\\w[A-Za-z\\.]+@\\w[A-Za-z\\.]+\\w\"\n",
    "\n",
    "correos = re.findall(patron_2, texto2)\n",
    "correos_str = \", \".join(correos)    #----------Aquí otra véz devuelve lista y hay que convertir a cadena.\n",
    "print(f\"Los correos electrónicos encontrados son: {correos_str}.\")"
   ]
  },
  {
   "cell_type": "markdown",
   "metadata": {},
   "source": [
    "3. Validar un código postal.\n",
    "\n",
    "Descripción: Verificar si una cadena representa un código postal válido de 5 dígitos.\n",
    "\n",
    "Probad para cada uno de los códigos postales que tenemos en la siguiente lista:\n",
    "\n",
    "Copy\n",
    "codigos_postales = [\"12345\", \"190037\", \"78409\", \"986449\", \"19305\"]"
   ]
  },
  {
   "cell_type": "code",
   "execution_count": 10,
   "metadata": {},
   "outputs": [
    {
     "name": "stdout",
     "output_type": "stream",
     "text": [
      "Los códigos con 5 digitos en la cadena son: 12345 78409 19305\n"
     ]
    }
   ],
   "source": [
    "\n",
    "codigos_postales = [\"12345\", \"190037\", \"78409\", \"986449\", \"19305\"]\n",
    "patron3 = r\"\\d{5}$\"\n",
    "\n",
    "codigos_válidos = [codigo for codigo in codigos_postales if re.match(patron3, codigo)]\n",
    "codigos_válidos_str = \" \".join(codigos_válidos)\n",
    "print(f\"Los códigos con 5 digitos en la cadena son: {codigos_válidos_str}\")\n",
    "        "
   ]
  },
  {
   "cell_type": "markdown",
   "metadata": {},
   "source": []
  },
  {
   "cell_type": "markdown",
   "metadata": {},
   "source": [
    "4. Encontrar todas las palabras que comienzan con una vocal en un texto.\n",
    "\n",
    "Descripción: Encontrar todas las palabras en un texto que comienzan con una vocal (a, e, i, o, u).\n",
    "\n",
    "Probad con el siguiente string: texto = \"El perro está ladrando. Ana tiene una manzana. La casa es grande.\""
   ]
  },
  {
   "cell_type": "code",
   "execution_count": 25,
   "metadata": {},
   "outputs": [
    {
     "name": "stdout",
     "output_type": "stream",
     "text": [
      "Las palabras que empiezan con vocales son: El, está, Ana, una, es.\n"
     ]
    }
   ],
   "source": [
    "texto_4= \"El perro está ladrando. Ana tiene una manzana. La casa es grande.\"\n",
    "patron4 = r\"\\b[a.e.i.o.u.A.E.I.O.U]\\w+\\b\"\n",
    "\n",
    "palabras_vocales = re.findall(patron4, texto_4)\n",
    "palabras_vocales_str = \", \".join((palabras_vocales))\n",
    "print(f\"Las palabras que empiezan con vocales son: {palabras_vocales_str}.\")\n"
   ]
  },
  {
   "cell_type": "markdown",
   "metadata": {},
   "source": [
    "5. Extraer todos los hashtags de un texto.\n",
    "\n",
    "Descripción: Extraer todos los hashtags (#) presentes en una cadena de texto.\n",
    "\n",
    "Probad con el siguiente string: texto = \"Me encanta el #deporte. #FelizViernes a todos. Estoy en la conferencia #Tech2022.\""
   ]
  },
  {
   "cell_type": "code",
   "execution_count": 41,
   "metadata": {},
   "outputs": [
    {
     "name": "stdout",
     "output_type": "stream",
     "text": [
      "Me encanta el deporte. FelizViernes a todos. Estoy en la conferencia Tech2022.\n",
      "Me encanta el deporte. Feliz Viernes a todos. Estoy en la conferencia Tech2022.\n"
     ]
    }
   ],
   "source": [
    "texto_5 = texto = \"Me encanta el #deporte. #FelizViernes a todos. Estoy en la conferencia #Tech2022.\"\n",
    "cadena_limpia = re.sub(\"#\",\"\", texto_5) #-------reemplazamos # por espacios vacíos.\n",
    "cadena_mas_limpia = re.sub(\"FelizViernes\", \"Feliz Viernes\", cadena_limpia)#--separamos FelizViernes\n",
    "\n",
    "print(cadena_limpia)\n",
    "print(cadena_mas_limpia)\n"
   ]
  },
  {
   "cell_type": "markdown",
   "metadata": {},
   "source": [
    "6. Buscar todos los números decimales en una cadena de texto.\n",
    "\n",
    "Descripción: Encontrar todos los números decimales presentes en una cadena de texto.\n",
    "\n",
    "Probad con el siguiente string:"
   ]
  },
  {
   "cell_type": "code",
   "execution_count": 45,
   "metadata": {},
   "outputs": [
    {
     "name": "stdout",
     "output_type": "stream",
     "text": [
      "Los números décimales son: $19,.99, 25,.5, 2,.5.\n"
     ]
    }
   ],
   "source": [
    "texto_6 = \"El precio es $19.99. La temperatura es 25.5°C. El índice de inflación es del 2.5%.\"   \n",
    "patron_6 = r\".\\d+\"\n",
    "\n",
    "numeros_decimales = re.findall(patron_6, texto_6)\n",
    "numeros_decimales_str = \",\".join(numeros_decimales)\n",
    "print(f\"Los números décimales son: {numeros_decimales_str}.\")\n"
   ]
  },
  {
   "cell_type": "markdown",
   "metadata": {},
   "source": []
  },
  {
   "cell_type": "markdown",
   "metadata": {},
   "source": []
  }
 ],
 "metadata": {
  "kernelspec": {
   "display_name": "base",
   "language": "python",
   "name": "python3"
  },
  "language_info": {
   "codemirror_mode": {
    "name": "ipython",
    "version": 3
   },
   "file_extension": ".py",
   "mimetype": "text/x-python",
   "name": "python",
   "nbconvert_exporter": "python",
   "pygments_lexer": "ipython3",
   "version": "3.11.8"
  }
 },
 "nbformat": 4,
 "nbformat_minor": 2
}
