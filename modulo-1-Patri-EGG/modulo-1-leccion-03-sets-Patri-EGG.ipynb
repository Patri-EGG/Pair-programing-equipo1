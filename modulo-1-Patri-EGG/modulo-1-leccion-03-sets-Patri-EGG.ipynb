{
 "cells": [
  {
   "cell_type": "markdown",
   "metadata": {},
   "source": [
    "Definir sets\n",
    "\n",
    "1. Define la lista\n",
    "\n",
    "temperaturas_diciembre = [10, 10, 13, 14, 12, 15, \n",
    "                          12, 11, 13, 17, 18, 15, \n",
    "                          15, 17, 17, 13, 13, 11,\n",
    "                          12, 10, 12, 14, 12, 12,\n",
    "                          11, 12, 16, 16, 14, 17, 18] \n",
    "                          \n",
    "2. Conviértala en un set llamado diciembre.\n",
    "\n",
    "3. Piensa en 6 colores y almacenalos en un set llamado colores."
   ]
  },
  {
   "cell_type": "code",
   "execution_count": 196,
   "metadata": {},
   "outputs": [],
   "source": [
    "temperaturas_diciembre = [10, 10, 13, 14, 12, 15, \n",
    "                          12, 11, 13, 17, 18, 15, \n",
    "                          15, 17, 17, 13, 13, 11,\n",
    "                          12, 10, 12, 14, 12, 12,\n",
    "                          11, 12, 16, 16, 14, 17, 18]"
   ]
  },
  {
   "cell_type": "code",
   "execution_count": 197,
   "metadata": {},
   "outputs": [
    {
     "name": "stdout",
     "output_type": "stream",
     "text": [
      "{10, 11, 12, 13, 14, 15, 16, 17, 18}\n"
     ]
    }
   ],
   "source": [
    "# Los sets no contienen elementos duplicados\n",
    "diciembre = set(temperaturas_diciembre)\n",
    "print(diciembre)"
   ]
  },
  {
   "cell_type": "code",
   "execution_count": 198,
   "metadata": {},
   "outputs": [],
   "source": [
    "colores = {\"azul\", \"verde\", \"naranja\", \"rojo\", \"amarillo\"}"
   ]
  },
  {
   "cell_type": "markdown",
   "metadata": {},
   "source": [
    "Ampliar sets\n",
    "\n",
    "4. Añade 'lila' a colores.\n",
    "\n",
    "5. Añade 'azul', 'rojo', y 'granate' a colores usando .update()."
   ]
  },
  {
   "cell_type": "code",
   "execution_count": 199,
   "metadata": {},
   "outputs": [
    {
     "name": "stdout",
     "output_type": "stream",
     "text": [
      "{'amarillo', 'lila', 'naranja', 'rojo', 'azul', 'verde'}\n"
     ]
    }
   ],
   "source": [
    "colores.add(\"lila\")\n",
    "print(colores)"
   ]
  },
  {
   "cell_type": "code",
   "execution_count": 200,
   "metadata": {},
   "outputs": [
    {
     "name": "stdout",
     "output_type": "stream",
     "text": [
      "{'amarillo', 'lila', 'naranja', 'rojo', 'azul', 'granate', 'verde'}\n"
     ]
    }
   ],
   "source": [
    "colores.update([\"azul\", \"rojo\", \"granate\"])\n",
    "print(colores)"
   ]
  },
  {
   "cell_type": "markdown",
   "metadata": {},
   "source": [
    "in, not in\n",
    "\n",
    "6. Tu set de colores, ¿tiene 'verde'?\n",
    "\n",
    "7. ¿Y tiene 'ROJO'?"
   ]
  },
  {
   "cell_type": "code",
   "execution_count": 201,
   "metadata": {},
   "outputs": [
    {
     "name": "stdout",
     "output_type": "stream",
     "text": [
      "True\n"
     ]
    }
   ],
   "source": [
    "print(\"verde\" in colores)"
   ]
  },
  {
   "cell_type": "code",
   "execution_count": 202,
   "metadata": {},
   "outputs": [
    {
     "name": "stdout",
     "output_type": "stream",
     "text": [
      "False\n"
     ]
    }
   ],
   "source": [
    "print(\"ROJO\" in colores)"
   ]
  },
  {
   "cell_type": "markdown",
   "metadata": {},
   "source": [
    "Copiar, borrar elementos\n",
    "\n",
    "8. Define el set enero para que sea igual a diciembre.\n",
    "\n",
    "9. Quita las temperaturas 17, y 18 de enero."
   ]
  },
  {
   "cell_type": "code",
   "execution_count": 203,
   "metadata": {},
   "outputs": [
    {
     "name": "stdout",
     "output_type": "stream",
     "text": [
      "{10, 11, 12, 13, 14, 15, 16, 18}\n"
     ]
    }
   ],
   "source": [
    "enero = diciembre\n",
    "enero.remove(17)\n",
    "print(enero)"
   ]
  },
  {
   "cell_type": "code",
   "execution_count": 204,
   "metadata": {},
   "outputs": [
    {
     "name": "stdout",
     "output_type": "stream",
     "text": [
      "{10, 11, 12, 13, 14, 15, 16}\n"
     ]
    }
   ],
   "source": [
    "enero.remove(18)\n",
    "print(enero)"
   ]
  },
  {
   "cell_type": "markdown",
   "metadata": {},
   "source": [
    "Tamaño de un set\n",
    "\n",
    "10. ¿Cuántas temperaturas distintas había en diciembre?\n",
    "\n",
    "11. ¿Y cuántas en enero?"
   ]
  },
  {
   "cell_type": "code",
   "execution_count": 205,
   "metadata": {},
   "outputs": [
    {
     "name": "stdout",
     "output_type": "stream",
     "text": [
      "Diciembre tuvo 7 temperaturas diferentes\n"
     ]
    }
   ],
   "source": [
    "print(\"Diciembre tuvo\",len(diciembre), \"temperaturas diferentes\")"
   ]
  },
  {
   "cell_type": "code",
   "execution_count": 206,
   "metadata": {},
   "outputs": [
    {
     "name": "stdout",
     "output_type": "stream",
     "text": [
      "Enero tuvo 7 temperaturas diferentes\n"
     ]
    }
   ],
   "source": [
    "print(\"Enero tuvo\",len(enero), \"temperaturas diferentes\")"
   ]
  },
  {
   "cell_type": "markdown",
   "metadata": {},
   "source": [
    "Conjuntos con sets\n",
    "\n",
    "12. Identifica los elementos que hay en diciembre que no están en enero.\n",
    "\n",
    "13. Identifica los elementos que hay en enero que no están en diciembre.\n",
    "\n",
    "14. Identifica los elementos que tienen en común diciembre y enero.\n",
    "\n",
    "15. Identifica la diferencia simétrica de colores y {'marrón','amarillo','cyan'}. ¿Qué significa este resultado?"
   ]
  },
  {
   "cell_type": "code",
   "execution_count": 207,
   "metadata": {},
   "outputs": [
    {
     "name": "stdout",
     "output_type": "stream",
     "text": [
      "set()\n"
     ]
    }
   ],
   "source": [
    "diferencia = diciembre.difference(enero) \n",
    "print(diferencia)\n",
    "#son iguales"
   ]
  },
  {
   "cell_type": "code",
   "execution_count": 208,
   "metadata": {},
   "outputs": [
    {
     "name": "stdout",
     "output_type": "stream",
     "text": [
      "set()\n"
     ]
    }
   ],
   "source": [
    "enero.difference(diciembre) \n",
    "print(enero - diciembre)\n",
    "#son iguales"
   ]
  },
  {
   "cell_type": "code",
   "execution_count": 209,
   "metadata": {},
   "outputs": [
    {
     "name": "stdout",
     "output_type": "stream",
     "text": [
      "{16, 10, 11, 12, 13, 14, 15}\n"
     ]
    }
   ],
   "source": [
    "#son iguales\n",
    "interseccion = diciembre.intersection(enero)\n",
    "print(interseccion)"
   ]
  },
  {
   "cell_type": "code",
   "execution_count": 210,
   "metadata": {},
   "outputs": [
    {
     "name": "stdout",
     "output_type": "stream",
     "text": [
      "Los números que no se repiten en ambas variables son: {'cyan', 'granate', 'marrón', 'azul', 'naranja', 'rojo', 'lila', 'verde'}\n"
     ]
    }
   ],
   "source": [
    "# Esto imprime los número que no se repiten en ambas variables\n",
    "diferencia_simetrica = colores.symmetric_difference({'marrón','amarillo','cyan'})\n",
    "print(\"Los números que no se repiten en ambas variables son:\", diferencia_simetrica)"
   ]
  },
  {
   "cell_type": "markdown",
   "metadata": {},
   "source": [
    "Comparar sets\n",
    "\n",
    "  16. ¿Son *disjoint* `diciembre` y `enero`? ¿Por qué (no)?\n",
    "\n",
    "  17. ¿Es `{'rojo','azul'}` un superset de colores?\n",
    "  \n",
    "  18. ¿Y un subset?"
   ]
  },
  {
   "cell_type": "code",
   "execution_count": 211,
   "metadata": {},
   "outputs": [
    {
     "name": "stdout",
     "output_type": "stream",
     "text": [
      "Son Diciembre y Enero disjuntos? False\n"
     ]
    }
   ],
   "source": [
    "#La función isdisjoint verifica si los conjuntos no tienen elementos en común\n",
    "disjuntos = diciembre.isdisjoint(enero)\n",
    "print(\"Son Diciembre y Enero disjuntos?\",disjuntos)"
   ]
  },
  {
   "cell_type": "code",
   "execution_count": 212,
   "metadata": {},
   "outputs": [
    {
     "name": "stdout",
     "output_type": "stream",
     "text": [
      "Es '{'rojo azul'}' un superset de colores? False\n"
     ]
    }
   ],
   "source": [
    "#verifica si un conjunto contiene todos los elementos de otro conjunto.\n",
    "superset = {\"rojo\", \"azul\"}\n",
    "es_superset = superset.issuperset(colores)\n",
    "print(\"Es '{'rojo\",\"azul'}' un superset de colores?\", es_superset)"
   ]
  }
 ],
 "metadata": {
  "kernelspec": {
   "display_name": "base",
   "language": "python",
   "name": "python3"
  },
  "language_info": {
   "codemirror_mode": {
    "name": "ipython",
    "version": 3
   },
   "file_extension": ".py",
   "mimetype": "text/x-python",
   "name": "python",
   "nbconvert_exporter": "python",
   "pygments_lexer": "ipython3",
   "version": "3.11.8"
  }
 },
 "nbformat": 4,
 "nbformat_minor": 2
}
