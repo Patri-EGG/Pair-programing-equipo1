{
 "cells": [
  {
   "cell_type": "markdown",
   "metadata": {},
   "source": [
    "Definir listas:\n",
    "\n",
    "1.Haz una lista llamada colores donde almacenemos los primeros 6 colores que te vengan a la mente.\n",
    "\n",
    "2.Haz una lista llamada buses de las líneas de autobuses que pasan por tu casa.\n",
    "\n",
    "3.Apunta la previsión de temperaturas máximas para todos los días de esta semana en temperaturas."
   ]
  },
  {
   "cell_type": "code",
   "execution_count": 51,
   "metadata": {},
   "outputs": [],
   "source": [
    "colores = [\"rojo\", \"azul\", \"verde\", \"blanco\", \"negro\", \"rosa\"]\n",
    "buses = [\"l1\", \"l3\", \"l6\", \"l2\"]\n",
    "temperaturas = [23, 16, 22, 18, 17, 16, 20]"
   ]
  },
  {
   "cell_type": "markdown",
   "metadata": {},
   "source": [
    "Convertir a listas\n",
    "\n",
    "4. Convierte tu(s) nombre(s) a una lista nombres de caracteres.\n",
    "\n",
    "5. Convierte tu(s) apellido(s) a una lista apellidos de caracteres."
   ]
  },
  {
   "cell_type": "code",
   "execution_count": 52,
   "metadata": {},
   "outputs": [
    {
     "name": "stdout",
     "output_type": "stream",
     "text": [
      "['P', 'a', 't', 'r', 'i', 'c', 'i', 'a']\n"
     ]
    }
   ],
   "source": [
    "nombres = \"Patricia\"\n",
    "listaNombres = list(nombres)\n",
    "print(listaNombres)"
   ]
  },
  {
   "cell_type": "code",
   "execution_count": 53,
   "metadata": {},
   "outputs": [
    {
     "name": "stdout",
     "output_type": "stream",
     "text": [
      "['G', 'o', 'n', 'z', 'a', 'l', 'e', 'z']\n"
     ]
    }
   ],
   "source": [
    "apellidos = \"Gonzalez\"\n",
    "listaApellido = list(apellidos)\n",
    "print(listaApellido)"
   ]
  },
  {
   "cell_type": "markdown",
   "metadata": {},
   "source": [
    "Usar len(), min(), y max()\n",
    "\n",
    "6. ¿Cuántos búses pasan por tu casa?\n",
    "\n",
    "7. ¿Cuántos caracteres hay en tu apellido(s) (inluyendo los espacios)?\n",
    "\n",
    "8. ¿Cuáles son las temperaturas máximas (t_max) y mínimas (t_min) para esta semana?"
   ]
  },
  {
   "cell_type": "code",
   "execution_count": 54,
   "metadata": {},
   "outputs": [
    {
     "name": "stdout",
     "output_type": "stream",
     "text": [
      "Por mi casa pasan 4 líneas de autobuses\n"
     ]
    }
   ],
   "source": [
    "print(\"Por mi casa pasan\", len(buses), \"líneas de autobuses\")"
   ]
  },
  {
   "cell_type": "code",
   "execution_count": 55,
   "metadata": {},
   "outputs": [
    {
     "name": "stdout",
     "output_type": "stream",
     "text": [
      "Mi apellido tiene 8 letras\n"
     ]
    }
   ],
   "source": [
    "print(\"Mi apellido tiene\", len(apellidos), \"letras\")"
   ]
  },
  {
   "cell_type": "code",
   "execution_count": 56,
   "metadata": {},
   "outputs": [
    {
     "name": "stdout",
     "output_type": "stream",
     "text": [
      "Esta semana las temperaturas máximas serán de 23 °C\n",
      "Esta semana las temperaturas mínimas serán de 16 °C\n"
     ]
    }
   ],
   "source": [
    "t_max = max(temperaturas)\n",
    "print(\"Esta semana las temperaturas máximas serán de\",t_max, \"°C\")\n",
    "t_min = min(temperaturas)\n",
    "print(\"Esta semana las temperaturas mínimas serán de\", t_min, \"°C\")"
   ]
  },
  {
   "cell_type": "markdown",
   "metadata": {},
   "source": [
    "Usar in, not in\n",
    "\n",
    "9. Hay una 'e' en tu nombre?\n",
    "\n",
    "10. Tienes el color 'rosa' en la lista de colores?\n",
    "\n",
    "11. ¿Tiene una 'x' tu nombre? (Usa not in)"
   ]
  },
  {
   "cell_type": "code",
   "execution_count": 57,
   "metadata": {},
   "outputs": [
    {
     "name": "stdout",
     "output_type": "stream",
     "text": [
      "False\n"
     ]
    }
   ],
   "source": [
    "print(\"e\" in nombres)"
   ]
  },
  {
   "cell_type": "code",
   "execution_count": 58,
   "metadata": {},
   "outputs": [
    {
     "name": "stdout",
     "output_type": "stream",
     "text": [
      "True\n"
     ]
    }
   ],
   "source": [
    "print(\"rosa\" in colores)"
   ]
  },
  {
   "cell_type": "code",
   "execution_count": 59,
   "metadata": {},
   "outputs": [
    {
     "name": "stdout",
     "output_type": "stream",
     "text": [
      "True\n"
     ]
    }
   ],
   "source": [
    "print(\"x\" not in nombres)"
   ]
  },
  {
   "cell_type": "markdown",
   "metadata": {},
   "source": [
    "Hacer copias y borrar sus contenidos\n",
    "\n",
    "12. Copia el contenido de temperaturas a temperaturas2, y temperaturas3.\n",
    "\n",
    "13. Vacía el contenido de la variable temperaturas2\n",
    "\n",
    "14. Imprime el contenido de temperaturas y temperaturas2.\n",
    "\n",
    "15. Copia el contenido de nombres a nombres2.\n",
    "\n",
    "16. Copia el contenido de apellidos a apellidos2."
   ]
  },
  {
   "cell_type": "code",
   "execution_count": 60,
   "metadata": {},
   "outputs": [
    {
     "name": "stdout",
     "output_type": "stream",
     "text": [
      "[23, 16, 22, 18, 17, 16, 20]\n",
      "[23, 16, 22, 18, 17, 16, 20]\n"
     ]
    }
   ],
   "source": [
    "temperaturas2 = temperaturas.copy()\n",
    "print(temperaturas2)\n",
    "temperaturas3 = temperaturas.copy()\n",
    "print(temperaturas3)"
   ]
  },
  {
   "cell_type": "code",
   "execution_count": 61,
   "metadata": {},
   "outputs": [
    {
     "name": "stdout",
     "output_type": "stream",
     "text": [
      "None\n"
     ]
    }
   ],
   "source": [
    "print(temperaturas2.clear())"
   ]
  },
  {
   "cell_type": "code",
   "execution_count": 62,
   "metadata": {},
   "outputs": [
    {
     "name": "stdout",
     "output_type": "stream",
     "text": [
      "[23, 16, 22, 18, 17, 16, 20] []\n"
     ]
    }
   ],
   "source": [
    "print(temperaturas, temperaturas2)"
   ]
  },
  {
   "cell_type": "code",
   "execution_count": 63,
   "metadata": {},
   "outputs": [],
   "source": [
    "nombres2 = listaNombres.copy()"
   ]
  },
  {
   "cell_type": "code",
   "execution_count": 64,
   "metadata": {},
   "outputs": [],
   "source": [
    "apellidos2 = listaApellido"
   ]
  },
  {
   "cell_type": "markdown",
   "metadata": {},
   "source": [
    "Cambiar el orden de los contenidos\n",
    "\n",
    "17. Ordena la variable temperaturas3 de mayor a menor.\n",
    "\n",
    "18. Ordena los caracteres de tu nombre y tu apellido en las listas nombres2 y apellidos2. Imprime el resultado y investiga: ¿qué orden ha cogido? ¿Cómo trata las mayúsculas?"
   ]
  },
  {
   "cell_type": "code",
   "execution_count": 111,
   "metadata": {},
   "outputs": [
    {
     "name": "stdout",
     "output_type": "stream",
     "text": [
      "Temperaturas3 ordenadas de mayor a menor: [23, 22, 20, 18, 17, 16, 16]\n"
     ]
    }
   ],
   "source": [
    "temperaturas3.sort(reverse=True)\n",
    "print(\"Temperaturas3 ordenadas de mayor a menor:\", temperaturas3)\n"
   ]
  },
  {
   "cell_type": "code",
   "execution_count": 112,
   "metadata": {},
   "outputs": [
    {
     "name": "stdout",
     "output_type": "stream",
     "text": [
      "Nombres2 ordenados: ['P', 'a', 'a', 'c', 'i', 'i', 'r', 't']\n",
      "Apellidos2 ordenados: ['G', 'a', 'e', 'l', 'n', 'o', 'z', 'z']\n"
     ]
    }
   ],
   "source": [
    "nombres2.sort()\n",
    "apellidos2.sort()\n",
    "print(\"Nombres2 ordenados:\", nombres2)\n",
    "print(\"Apellidos2 ordenados:\", apellidos2)"
   ]
  },
  {
   "cell_type": "markdown",
   "metadata": {},
   "source": [
    "Da prioridad a las mayúsculas alfabeticamente."
   ]
  },
  {
   "cell_type": "markdown",
   "metadata": {},
   "source": [
    "Contar duplicados\n",
    "\n",
    "19. ¿Cuántas 'a' tiene tu nombre? ¿Y cuántas 'o'?\n",
    "\n",
    "20. Verifica si los resultados de ejercicio 19 son iguales para la lista nombres2.\n",
    "\n",
    "21. ¿Cuántas veces esta semana llega la temperatura a la t_max? ¿Y cuántas a la t_min?"
   ]
  },
  {
   "cell_type": "code",
   "execution_count": 67,
   "metadata": {},
   "outputs": [
    {
     "name": "stdout",
     "output_type": "stream",
     "text": [
      "Numero de letras a en mi nombre: 2 Numero de letras o en mi nombre: 0\n"
     ]
    }
   ],
   "source": [
    "resultados19=print(\"Numero de letras a en mi nombre:\", nombres.count(\"a\"),\"Numero de letras o en mi nombre:\", nombres.count(\"o\"))"
   ]
  },
  {
   "cell_type": "code",
   "execution_count": 68,
   "metadata": {},
   "outputs": [
    {
     "data": {
      "text/plain": [
       "False"
      ]
     },
     "execution_count": 68,
     "metadata": {},
     "output_type": "execute_result"
    }
   ],
   "source": [
    "listaNombres == resultados19"
   ]
  },
  {
   "cell_type": "code",
   "execution_count": 69,
   "metadata": {},
   "outputs": [
    {
     "name": "stdout",
     "output_type": "stream",
     "text": [
      "Las máximas se repiten: 1 vez\n",
      "Las mínimas se repiten: 2 veces\n"
     ]
    }
   ],
   "source": [
    "listaTemperaturas = list(temperaturas)\n",
    "print(\"Las máximas se repiten:\",listaTemperaturas.count(t_max), \"vez\")\n",
    "print(\"Las mínimas se repiten:\",listaTemperaturas.count(t_min), \"veces\")"
   ]
  },
  {
   "cell_type": "markdown",
   "metadata": {},
   "source": [
    "Definir otra lista\n",
    "\n",
    "22. La lista dias_en contiene 'monday', 'tuesday', 'wednesday', 'thursday', 'friday', 'saturday', y 'sunday'.\n",
    "\n",
    "23. Define temperaturas_diciembre 👇🏽:\n",
    "\n",
    "\n",
    "  temperaturas_diciembre = [10, 10, 13, 14, 12, 15, \n",
    "                        12, 11, 13, 17, 18, 15, \n",
    "                        15, 17, 17, 13, 13, 11,\n",
    "                        12, 10, 12, 14, 12, 12,\n",
    "                        11, 12, 16, 16, 14, 17, 18]"
   ]
  },
  {
   "cell_type": "code",
   "execution_count": 82,
   "metadata": {},
   "outputs": [],
   "source": [
    "temperaturas_diciembre = [10, 10, 13, 14, 12, 15, \n",
    "                        12, 11, 13, 17, 18, 15, \n",
    "                        15, 17, 17, 13, 13, 11,\n",
    "                        12, 10, 12, 14, 12, 12,\n",
    "                        11, 12, 16, 16, 14, 17, 18]"
   ]
  },
  {
   "cell_type": "code",
   "execution_count": 70,
   "metadata": {},
   "outputs": [],
   "source": [
    "dias_en = ['monday', 'tuesday', 'wednesday', 'thursday', 'friday', 'saturday', 'sunday']"
   ]
  },
  {
   "cell_type": "markdown",
   "metadata": {},
   "source": [
    "Indexación de listas\n",
    "\n",
    "24. ¿Cuál es el penúltimo día de la semana?\n",
    "\n",
    "25. ¿Cuál es el último elemento de la lista de temperaturas de diciembre?\n",
    "\n",
    "26. ¿Está 'friday' en la lista de días en inglés? Si está, ¿dónde?\n",
    "\n",
    "27. ¿Cuál era la temperatura máxima en diciembre?\n",
    "\n",
    "28. Encuentra el índice de 'miércoles' en dias_es."
   ]
  },
  {
   "cell_type": "code",
   "execution_count": 78,
   "metadata": {},
   "outputs": [
    {
     "name": "stdout",
     "output_type": "stream",
     "text": [
      "El penultimo día de la semana es saturday\n"
     ]
    }
   ],
   "source": [
    "penultimoDia = dias_en[-2]\n",
    "print(\"El penultimo día de la semana es\", (penultimoDia))"
   ]
  },
  {
   "cell_type": "code",
   "execution_count": 84,
   "metadata": {},
   "outputs": [
    {
     "name": "stdout",
     "output_type": "stream",
     "text": [
      "El último elemento de temperaturas_diciembre es 18\n"
     ]
    }
   ],
   "source": [
    "print(\"El último elemento de temperaturas_diciembre es\", temperaturas_diciembre[-1])"
   ]
  },
  {
   "cell_type": "code",
   "execution_count": 91,
   "metadata": {},
   "outputs": [
    {
     "name": "stdout",
     "output_type": "stream",
     "text": [
      "friday está en la posición: 4\n"
     ]
    }
   ],
   "source": [
    "posicionFriday = dias_en.index(\"friday\")\n",
    "print(\"friday está en la posición:\", posicionFriday)\n"
   ]
  },
  {
   "cell_type": "code",
   "execution_count": 103,
   "metadata": {},
   "outputs": [
    {
     "name": "stdout",
     "output_type": "stream",
     "text": [
      "La temperatura máxima de Diciembre son: 18\n"
     ]
    }
   ],
   "source": [
    "tuple_temperaturas_diciembre = tuple(temperaturas_diciembre)\n",
    "print(\"La temperatura máxima de Diciembre son:\", max(tuple_temperaturas_diciembre))\n"
   ]
  },
  {
   "cell_type": "code",
   "execution_count": 110,
   "metadata": {},
   "outputs": [
    {
     "name": "stdout",
     "output_type": "stream",
     "text": [
      "La posición de miércoles es: 2\n"
     ]
    }
   ],
   "source": [
    "dias_es = \"lunes\", \"martes\", \"miércoles\", \"jueves\", \"viernes\", \"sábado\", \"domingo\"\n",
    "print(\"La posición de miércoles es:\",dias_es.index(\"miércoles\"))"
   ]
  }
 ],
 "metadata": {
  "kernelspec": {
   "display_name": "base",
   "language": "python",
   "name": "python3"
  },
  "language_info": {
   "codemirror_mode": {
    "name": "ipython",
    "version": 3
   },
   "file_extension": ".py",
   "mimetype": "text/x-python",
   "name": "python",
   "nbconvert_exporter": "python",
   "pygments_lexer": "ipython3",
   "version": "3.11.8"
  }
 },
 "nbformat": 4,
 "nbformat_minor": 2
}
