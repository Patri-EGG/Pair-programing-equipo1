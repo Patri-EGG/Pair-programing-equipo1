{
 "cells": [
  {
   "cell_type": "markdown",
   "metadata": {},
   "source": [
    "Definir tuplas\n",
    "\n",
    "1. Crea una tupla persona1 para juntar los siguientes datos: 61 kg, 1.54 m   altura, pelo marrón, sin usar paréntesis. (Serán del tipo int, float y str.)\n",
    "\n",
    "2. Crea una tupla para la persona2 de 68 kg, 1.65 m y pelo rubio, usando paréntesis.\n",
    "\n",
    "3. Crea una lista talla que recompila 'M', 42, y 39."
   ]
  },
  {
   "cell_type": "code",
   "execution_count": 89,
   "metadata": {},
   "outputs": [],
   "source": [
    "persona1 = int(61), float(1.54), \"marrón\"\n",
    "persona2 = (68, 1.65,\"rubio\")\n",
    "lista_talla = [\"M\", 42, 39]"
   ]
  },
  {
   "cell_type": "markdown",
   "metadata": {},
   "source": [
    "Convertir y juntar\n",
    "\n",
    "4. Convierte la lista talla a una tupla.\n",
    "\n",
    "5. Une a la tupla de persona1 los datos en talla, para tener una única tupla."
   ]
  },
  {
   "cell_type": "code",
   "execution_count": 90,
   "metadata": {},
   "outputs": [],
   "source": [
    "tupla_datos_talla = tuple(list_talla)"
   ]
  },
  {
   "cell_type": "code",
   "execution_count": 91,
   "metadata": {},
   "outputs": [
    {
     "name": "stdout",
     "output_type": "stream",
     "text": [
      "(61, 1.54, 'marrón', 'M', 42, 39)\n"
     ]
    }
   ],
   "source": [
    "unica_tupla = persona1 + tupla_datos_talla\n",
    "print(unica_tupla)"
   ]
  },
  {
   "cell_type": "markdown",
   "metadata": {},
   "source": [
    "Indexar tuplas\n",
    "\n",
    "6. Saca de persona2 el contenido del tercer elemento y llámalo color.\n",
    "\n",
    "7. ¿Cuántos elementos hay ahora en persona1? (Es decir, ¿cuál es su longitud?)"
   ]
  },
  {
   "cell_type": "code",
   "execution_count": 92,
   "metadata": {},
   "outputs": [
    {
     "name": "stdout",
     "output_type": "stream",
     "text": [
      "rubio\n"
     ]
    }
   ],
   "source": [
    "color = persona2[2]\n",
    "print(color)"
   ]
  },
  {
   "cell_type": "code",
   "execution_count": 93,
   "metadata": {},
   "outputs": [
    {
     "name": "stdout",
     "output_type": "stream",
     "text": [
      "La longitud de persona1 es: 3\n"
     ]
    }
   ],
   "source": [
    "longitud_persona1 = len(persona1)\n",
    "print(\"La longitud de persona1 es:\", longitud_persona1)"
   ]
  },
  {
   "cell_type": "markdown",
   "metadata": {},
   "source": [
    "Desempaquetar\n",
    "\n",
    "8. Crea las variables peso, altura, color_pelo y \n",
    "llénalas con el contenido de persona1. Imprime color_pelo para comprobar el resultado."
   ]
  },
  {
   "cell_type": "code",
   "execution_count": 94,
   "metadata": {},
   "outputs": [
    {
     "name": "stdout",
     "output_type": "stream",
     "text": [
      "marrón\n"
     ]
    }
   ],
   "source": [
    "peso = 61 \n",
    "altura = 1.54\n",
    "color_pelo = \"marrón\"\n",
    "print(color_pelo)\n"
   ]
  },
  {
   "cell_type": "markdown",
   "metadata": {},
   "source": [
    "Zipear\n",
    "\n",
    "9. Crea el zip personas con persona1 y persona2.\n",
    "\n",
    "10. ¿Cuántas \"elementos\" tiene personas? ¿Por qué?\n",
    "\n",
    "11. Crea una tupla etiquetas con 'peso', 'altura', y 'color_pelo'.\n",
    "\n",
    "12. Crea al zip de etiquetas, persona1, y persona2, llamado \"todo\"."
   ]
  },
  {
   "cell_type": "code",
   "execution_count": 95,
   "metadata": {},
   "outputs": [
    {
     "name": "stdout",
     "output_type": "stream",
     "text": [
      "[(61, 68), (1.54, 1.65), ('marrón', 'rubio')]\n"
     ]
    }
   ],
   "source": [
    "personas = list(zip(persona1, persona2))\n",
    "print(personas)"
   ]
  },
  {
   "cell_type": "code",
   "execution_count": 96,
   "metadata": {},
   "outputs": [
    {
     "name": "stdout",
     "output_type": "stream",
     "text": [
      "Personas tiene 3 elementos, porque el zip ha separado entre categorias de peso, altura y color.\n"
     ]
    }
   ],
   "source": [
    "print(\"Personas tiene\", len(personas), \"elementos, porque el zip ha separado entre categorias de peso, altura y color.\")"
   ]
  },
  {
   "cell_type": "code",
   "execution_count": 97,
   "metadata": {},
   "outputs": [],
   "source": [
    "etiquetas = (\"peso\", \"altura\", \"color_pelo\")"
   ]
  },
  {
   "cell_type": "code",
   "execution_count": 98,
   "metadata": {},
   "outputs": [
    {
     "name": "stdout",
     "output_type": "stream",
     "text": [
      "[(61, 68), (1.54, 1.65), ('marrón', 'rubio')]\n"
     ]
    }
   ],
   "source": [
    "todo = list(zip(persona1, persona2))\n",
    "print(todo)"
   ]
  },
  {
   "cell_type": "markdown",
   "metadata": {},
   "source": [
    "Manipular zips\n",
    "\n",
    "13. Ordena las propiedades de la variable personas alfabéticamente. ¿Puedes? ¿Por qué?"
   ]
  },
  {
   "cell_type": "markdown",
   "metadata": {},
   "source": [
    "No es posible ordenar porque zip() combina tuplas pero no las ordena entre sí.\n",
    "\n"
   ]
  }
 ],
 "metadata": {
  "kernelspec": {
   "display_name": "base",
   "language": "python",
   "name": "python3"
  },
  "language_info": {
   "codemirror_mode": {
    "name": "ipython",
    "version": 3
   },
   "file_extension": ".py",
   "mimetype": "text/x-python",
   "name": "python",
   "nbconvert_exporter": "python",
   "pygments_lexer": "ipython3",
   "version": "3.11.8"
  }
 },
 "nbformat": 4,
 "nbformat_minor": 2
}
