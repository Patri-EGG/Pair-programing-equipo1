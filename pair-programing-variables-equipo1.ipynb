{
 "cells": [
  {
   "cell_type": "markdown",
   "metadata": {},
   "source": [
    "Cread dos variables numéricas de tipo float (decimal) con dos decimales, llamdas de la siguiente forma:\n",
    "\n",
    "altura1\n",
    "\n",
    "altura2"
   ]
  },
  {
   "cell_type": "code",
   "execution_count": 1,
   "metadata": {},
   "outputs": [],
   "source": [
    "altura1 = 1.75\n",
    "altura2 = 1.68\n"
   ]
  },
  {
   "cell_type": "markdown",
   "metadata": {},
   "source": [
    "Utilizando los operadores matemáticos aprendidos en la lección:\n",
    "\n",
    "Cuál es la suma de las dos alturas\n",
    "\n",
    "Cuál es la diferencia entre las alturas\n",
    "\n",
    "Cuál es el resto de la división de las dos alturas\n",
    "\n",
    "Cuál es resultado de la división de las dos alturas, redondead el resultado a un decimal."
   ]
  },
  {
   "cell_type": "code",
   "execution_count": 3,
   "metadata": {},
   "outputs": [
    {
     "name": "stdout",
     "output_type": "stream",
     "text": [
      "3.4299999999999997\n",
      "0.07000000000000006\n",
      "1.0416666666666667\n",
      "1.0\n"
     ]
    }
   ],
   "source": [
    "print(altura1 + altura2)\n",
    "print(altura1-altura2)\n",
    "print(altura1/altura2)\n",
    "división=(altura1/altura2)\n",
    "print(round(división,1))\n"
   ]
  },
  {
   "cell_type": "markdown",
   "metadata": {},
   "source": [
    "--MARGARITA\n",
    "\n",
    "Escribid un programa usando la función input() que le pregunte al usuario su nombre y apellidos. Una vez que tengamos el nombre del usuario:\n",
    "\n",
    "Printead su nombre y apellidos todo en mayúsculas\n",
    "\n",
    "Printead su nombre y apellidos todo en minúsculas\n",
    "\n",
    "Printead su nombre y apellidos con la primera letra del nombre y los apellidos en mayúscula y el resto en minúscula.\n",
    "\n",
    "Printeas solo la primera letra del nombre en mayúscula."
   ]
  },
  {
   "cell_type": "code",
   "execution_count": null,
   "metadata": {},
   "outputs": [],
   "source": [
    "#Pregunta al usuario nombre y apellido.\n",
    "nombre_apellido= input('escriba su nombre entero')\n",
    "print(nombre_apellido)\n",
    "#imprimimos en mayusculas:\n",
    "print(nombre_apellido.upper())\n",
    "print(nombre_apellido.lower())\n",
    "print(nombre_apellido.title())\n",
    "print(nombre_apellido.capitalize())"
   ]
  },
  {
   "cell_type": "markdown",
   "metadata": {},
   "source": [
    "--FERNANDA\n",
    "\n",
    "Escribid un programa usando la función input() que:\n",
    "\n",
    "Le pregunte al usuario por una frase, almacenad este resultado en una variable.\n",
    "\n",
    "Le pregunte al usuario por una vocal, almacenad este resultado en una variable.\n",
    "\n",
    "Printead la misma frase pero con la vocal introducida en mayúsulas."
   ]
  },
  {
   "cell_type": "markdown",
   "metadata": {},
   "source": [
    "--PATRI\n",
    "\n",
    "Escribid un programa usando la función input() que:\n",
    "\n",
    "Le pregunte al usuario por la lista de la compra, separando cada elemento por comas.\n",
    "\n",
    "Devolved la lista de compra donde veamos cada elemento en una línea."
   ]
  },
  {
   "cell_type": "markdown",
   "metadata": {},
   "source": []
  }
 ],
 "metadata": {
  "kernelspec": {
   "display_name": "base",
   "language": "python",
   "name": "python3"
  },
  "language_info": {
   "codemirror_mode": {
    "name": "ipython",
    "version": 3
   },
   "file_extension": ".py",
   "mimetype": "text/x-python",
   "name": "python",
   "nbconvert_exporter": "python",
   "pygments_lexer": "ipython3",
   "version": "3.9.7"
  }
 },
 "nbformat": 4,
 "nbformat_minor": 2
}
